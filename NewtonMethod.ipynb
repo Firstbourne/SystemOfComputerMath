{
 "cells": [
  {
   "cell_type": "markdown",
   "id": "5d2f13a5-da02-4ed3-9773-a515c576daf8",
   "metadata": {},
   "source": [
    "## Выполнил: Бахтияров Александр Владиславович 3821Б1ПР2\n",
    "- Задача 13 - Метод Ньютона."
   ]
  },
  {
   "cell_type": "markdown",
   "id": "c9f5cd5b-5671-4c1e-8535-63a4e441dfa1",
   "metadata": {},
   "source": [
    "Метод Ньютона нахождения корня уравнения $f(x) = 0$ заключается в итерациях вида\n",
    "                                     $x_{i+1} = x_i - \\frac{f(x_i)}{f'(x_i)}.$\n",
    "Написать функцию mynewton(f, df, [x0, x1]), реализующую метод Ньютона, где f – строка, задающая правую часть f(x) уравнения, df – строка, задающая f'(x), [x0, x1] – отрезок локализации. Функция должна возвращать найденный корень с макимально возможной точностью.\n",
    "\n",
    "Написать программу, тестирующую эту функцию и сравнивающую ее с scipy.optimize.newton, scipy.optimize.fsolve на уравнениях:\n",
    "\n",
    "$ x^3 - 2x - 5 = 0, \\qquad 0\\le x \\le 3 $\n",
    "\n",
    "$ \\sin x = 0, \\qquad 1 \\le x \\le 4, $\n",
    "\n",
    "$ x^3  = 0.001, \\qquad -1 \\le x \\le 1, $\n",
    "\n",
    "$ \\ln x + \\frac{2}{3} = 0, \\qquad 0 \\le x \\le 1, $\n",
    "\n",
    "$ \\mathop{\\rm sgn} (x-2)\\, \\sqrt{|x-2|} = 0, \\qquad 1 \\le x \\le 4, $\n",
    "\n",
    "$ \\arctan x = \\frac{\\pi}{3}, \\qquad 0 \\le x \\le 5, $\n",
    "\n",
    "$ \\frac{1}{x - \\pi} = 0, \\qquad 0 \\le x \\le 5. $\n",
    "\n",
    "Программа должна печатать таблицу, в которой указываются найденные функциями mynewton, scipy.optimize.newton, scipy.optimize.fsolve решения, их относительные ошибки, и количества затраченных итераций. Сравнить и следать выводы."
   ]
  },
  {
   "cell_type": "code",
   "execution_count": 1,
   "id": "3b6977d0-1a33-49ea-a600-a984ad1fbb42",
   "metadata": {},
   "outputs": [],
   "source": [
    "import numpy as np\n",
    "import pandas as pd          #Импорт библиотек\n",
    "from scipy import optimize\n",
    "import matplotlib.pyplot as plt"
   ]
  },
  {
   "cell_type": "markdown",
   "id": "bcc74520-e214-43db-9e42-0125b426da0e",
   "metadata": {},
   "source": [
    "- Задаём массивы,в которые будут записываться значения,для таблицы результатов. А так же указываем значение погрешности(точности вычислений)"
   ]
  },
  {
   "cell_type": "code",
   "execution_count": 2,
   "id": "f077db09-4e37-4612-8e44-1cc407f940a5",
   "metadata": {},
   "outputs": [],
   "source": [
    "rootsMyNewton = []\n",
    "rootsNewton = []\n",
    "rootsSolve = []\n",
    "counts = []\n",
    "errorsSolve = []\n",
    "errorsNewton = []\n",
    "eps = 10**-15"
   ]
  },
  {
   "cell_type": "markdown",
   "id": "90f968d8-c29e-445a-89f1-ede6c7ef622d",
   "metadata": {},
   "source": [
    "- Пишем функцию MyNewton из задания"
   ]
  },
  {
   "cell_type": "code",
   "execution_count": 3,
   "id": "2b5e9408-8adb-40c3-98c6-37a15a8aa289",
   "metadata": {},
   "outputs": [],
   "source": [
    "def mynewton(f, df, x):\n",
    "    xres = (x[0] + x[1]) / 2\n",
    "    if (xres == 0):                  #Непонятно как использовать 2 крайние точки,найдем середину отрезка,для дальнейшего использования\n",
    "        xres = (xres + x[1]) / 2\n",
    "    i = 0\n",
    "    while np.abs(f(xres))>eps:\n",
    "        i+= 1                        #Проходим цикл, пока искомый корень не будет <= данной нам погрешности.\n",
    "        xres = xres - f(xres)/df(xres)\n",
    "    return xres, i"
   ]
  },
  {
   "cell_type": "markdown",
   "id": "3021e077-31c2-4378-988e-92414fb258b8",
   "metadata": {},
   "source": [
    "- Список функций"
   ]
  },
  {
   "cell_type": "code",
   "execution_count": 4,
   "id": "9240991b-130c-4765-969c-602b9778e9a8",
   "metadata": {},
   "outputs": [],
   "source": [
    "def f1(x):\n",
    "    return x**3 - 2 * x - 5\n",
    "def f2(x):\n",
    "    return np.sin(x)\n",
    "def f3(x):\n",
    "    return x**3 - 0.001\n",
    "def f4(x):\n",
    "    return np.log(x) + 2/3\n",
    "#def f5(x):\n",
    "    #return np.sign(x - 2) * np.sqrt(np.abs(x - 2)) закомментировал,в связи с неудачной попыткой записать производную\n",
    "def f6(x):\n",
    "    return np.arctan(x)- (np.pi / 3)\n",
    "def f7(x):\n",
    "    return 1 / (x - np.pi)"
   ]
  },
  {
   "cell_type": "markdown",
   "id": "f9188d51-9065-4066-810f-0790ac284348",
   "metadata": {},
   "source": [
    "- Список производных от функций"
   ]
  },
  {
   "cell_type": "code",
   "execution_count": 5,
   "id": "8d165428-d327-4151-8693-b787380b33ba",
   "metadata": {},
   "outputs": [],
   "source": [
    "def df1(x):\n",
    "    return 3* x**2 - 2\n",
    "def df2(x):\n",
    "    return np.cos(x)\n",
    "def df3(x):\n",
    "    return 3 * x**2\n",
    "def df4(x):\n",
    "    return 1/x\n",
    "#def df5(x):\n",
    "    #return np.sqrt(np.abs(x-2))*(2*   Не понятно,как вычислить и записать производную от функции знака,а конкретно дельта-функция Дирака\n",
    "def df6(x):\n",
    "    return 1 / (1 + x**2)\n",
    "def df7(x):\n",
    "    return -1 / ((x - np.pi)**2)"
   ]
  },
  {
   "cell_type": "markdown",
   "id": "0ddfd43f-d116-4ab1-b894-709fcd4932ef",
   "metadata": {},
   "source": [
    "- Задаём такие массивы, как: Массив функций, Массив производных, Массив(матрицы) отрезка локализации."
   ]
  },
  {
   "cell_type": "code",
   "execution_count": 6,
   "id": "9c2135cb-649e-459c-ae30-1494394959aa",
   "metadata": {},
   "outputs": [],
   "source": [
    "f = np.array([f1, f2, f3, f4, f6, f7])\n",
    "df = np.array([df1, df2, df3, df4, df6, df7])\n",
    "x = np.array([[0, 3], [1, 4], [-1, 1], [0, 1], [0, 5], [0, 5]])"
   ]
  },
  {
   "cell_type": "markdown",
   "id": "75205b02-ed2d-4fbd-9e39-d25aaebf9117",
   "metadata": {},
   "source": [
    "- funcount отвечает за кол-во функций, подсчитываемых нами (6, так как у одной функции не удалось вычислить производную)"
   ]
  },
  {
   "cell_type": "code",
   "execution_count": 7,
   "id": "8da46e53-a74f-4b2a-9317-cfb0fdc5a7f4",
   "metadata": {},
   "outputs": [],
   "source": [
    "funcount = 6"
   ]
  },
  {
   "cell_type": "markdown",
   "id": "85641098-9ce3-4679-81ad-59db0c91a9e7",
   "metadata": {},
   "source": [
    "- Считаем значения в цикле и записываем их в массивы, которые мы задалои в самом начале"
   ]
  },
  {
   "cell_type": "code",
   "execution_count": 8,
   "id": "79ccadfb-0d09-4311-bfc3-4e8afabd9d59",
   "metadata": {},
   "outputs": [
    {
     "name": "stderr",
     "output_type": "stream",
     "text": [
      "C:\\Users\\thego\\AppData\\Local\\Temp\\ipykernel_7508\\1062535427.py:8: RuntimeWarning: divide by zero encountered in log\n",
      "  return np.log(x) + 2/3\n",
      "D:\\lib\\site-packages\\scipy\\optimize\\_minpack_py.py:175: RuntimeWarning: The number of calls to function has reached maxfev = 400.\n",
      "  warnings.warn(msg, RuntimeWarning)\n"
     ]
    }
   ],
   "source": [
    "for i in range(funcount):\n",
    "    rmn = mynewton(f[i], df[i], x[i])\n",
    "    rootsMyNewton.append(rmn[0])\n",
    "    counts.append(rmn[1])\n",
    "    rn = optimize.newton(f[i], x0 = x[i][0], x1 = x[i][1], disp = False)\n",
    "    rootsNewton.append(rn)\n",
    "    \n",
    "    xres = (x[i][0] + x[i][1]) / 2\n",
    "    if(xres == 0):\n",
    "        xres = (xres + x[i][1]) / 2 \n",
    "    rfs = optimize.fsolve(f[i], x0 = xres)[0]\n",
    "    rootsSolve.append(rfs)\n",
    "    \n",
    "    errorsNewton.append((rn - rmn[0]) / rn * 100)\n",
    "    errorsSolve.append((rfs - rmn[0]) / rfs * 100)"
   ]
  },
  {
   "cell_type": "markdown",
   "id": "5a1395ae-e6c1-4a88-a7c1-c748d7f18609",
   "metadata": {},
   "source": [
    "- Строим таблицу и в итоге получаем:"
   ]
  },
  {
   "cell_type": "code",
   "execution_count": 9,
   "id": "73642013-e5c3-4199-b628-30e2306f0d5f",
   "metadata": {},
   "outputs": [
    {
     "data": {
      "text/html": [
       "<div>\n",
       "<style scoped>\n",
       "    .dataframe tbody tr th:only-of-type {\n",
       "        vertical-align: middle;\n",
       "    }\n",
       "\n",
       "    .dataframe tbody tr th {\n",
       "        vertical-align: top;\n",
       "    }\n",
       "\n",
       "    .dataframe thead th {\n",
       "        text-align: right;\n",
       "    }\n",
       "</style>\n",
       "<table border=\"1\" class=\"dataframe\">\n",
       "  <thead>\n",
       "    <tr style=\"text-align: right;\">\n",
       "      <th></th>\n",
       "      <th>MyNewton</th>\n",
       "      <th>opt.Newton</th>\n",
       "      <th>opt.Fsolve</th>\n",
       "      <th>Кол-во итераций</th>\n",
       "      <th>Ошибка Newton</th>\n",
       "      <th>Ошибка Fsolve</th>\n",
       "    </tr>\n",
       "  </thead>\n",
       "  <tbody>\n",
       "    <tr>\n",
       "      <th>x^3 - 2x - 5 = 0</th>\n",
       "      <td>2.094551e+00</td>\n",
       "      <td>2.094551e+00</td>\n",
       "      <td>2.094551e+00</td>\n",
       "      <td>6</td>\n",
       "      <td>3.180317e-13</td>\n",
       "      <td>0.000000e+00</td>\n",
       "    </tr>\n",
       "    <tr>\n",
       "      <th>sin(x) = 0</th>\n",
       "      <td>3.141593e+00</td>\n",
       "      <td>3.141593e+00</td>\n",
       "      <td>3.141593e+00</td>\n",
       "      <td>4</td>\n",
       "      <td>0.000000e+00</td>\n",
       "      <td>0.000000e+00</td>\n",
       "    </tr>\n",
       "    <tr>\n",
       "      <th>x^3 = 0.001</th>\n",
       "      <td>1.000000e-01</td>\n",
       "      <td>2.005443e-03</td>\n",
       "      <td>1.000000e-01</td>\n",
       "      <td>8</td>\n",
       "      <td>-4.886429e+03</td>\n",
       "      <td>-2.361999e-11</td>\n",
       "    </tr>\n",
       "    <tr>\n",
       "      <th>ln(x) + 2/3 = 0</th>\n",
       "      <td>5.134171e-01</td>\n",
       "      <td>1.000000e+00</td>\n",
       "      <td>5.134171e-01</td>\n",
       "      <td>4</td>\n",
       "      <td>4.865829e+01</td>\n",
       "      <td>-1.729935e-13</td>\n",
       "    </tr>\n",
       "    <tr>\n",
       "      <th>arctan(x) = pi / 3</th>\n",
       "      <td>1.732051e+00</td>\n",
       "      <td>1.732051e+00</td>\n",
       "      <td>1.732051e+00</td>\n",
       "      <td>5</td>\n",
       "      <td>2.179358e-13</td>\n",
       "      <td>1.153778e-13</td>\n",
       "    </tr>\n",
       "    <tr>\n",
       "      <th>1 / (x - pi) = 0</th>\n",
       "      <td>-1.444738e+15</td>\n",
       "      <td>-1.694444e+09</td>\n",
       "      <td>-1.129355e+83</td>\n",
       "      <td>51</td>\n",
       "      <td>-8.526316e+07</td>\n",
       "      <td>1.000000e+02</td>\n",
       "    </tr>\n",
       "  </tbody>\n",
       "</table>\n",
       "</div>"
      ],
      "text/plain": [
       "                        MyNewton    opt.Newton    opt.Fsolve  Кол-во итераций  \\\n",
       "x^3 - 2x - 5 = 0    2.094551e+00  2.094551e+00  2.094551e+00                6   \n",
       "sin(x) = 0          3.141593e+00  3.141593e+00  3.141593e+00                4   \n",
       "x^3 = 0.001         1.000000e-01  2.005443e-03  1.000000e-01                8   \n",
       "ln(x) + 2/3 = 0     5.134171e-01  1.000000e+00  5.134171e-01                4   \n",
       "arctan(x) = pi / 3  1.732051e+00  1.732051e+00  1.732051e+00                5   \n",
       "1 / (x - pi) = 0   -1.444738e+15 -1.694444e+09 -1.129355e+83               51   \n",
       "\n",
       "                    Ошибка Newton  Ошибка Fsolve  \n",
       "x^3 - 2x - 5 = 0     3.180317e-13   0.000000e+00  \n",
       "sin(x) = 0           0.000000e+00   0.000000e+00  \n",
       "x^3 = 0.001         -4.886429e+03  -2.361999e-11  \n",
       "ln(x) + 2/3 = 0      4.865829e+01  -1.729935e-13  \n",
       "arctan(x) = pi / 3   2.179358e-13   1.153778e-13  \n",
       "1 / (x - pi) = 0    -8.526316e+07   1.000000e+02  "
      ]
     },
     "execution_count": 9,
     "metadata": {},
     "output_type": "execute_result"
    }
   ],
   "source": [
    "index = [\"x^3 - 2x - 5 = 0\",\n",
    "         \"sin(x) = 0\",\n",
    "         \"x^3 = 0.001\",\n",
    "         \"ln(x) + 2/3 = 0\",\n",
    "         \"arctan(x) = pi / 3\",\n",
    "         \"1 / (x - pi) = 0\"]\n",
    "\n",
    "data = {\n",
    "        \"MyNewton\" : np.array(rootsMyNewton),\n",
    "        \"opt.Newton\" : np.array(rootsNewton),\n",
    "        \"opt.Fsolve\" : np.array(rootsSolve),\n",
    "        \"Кол-во итераций\" : np.array(counts),\n",
    "        \"Ошибка Newton\" : np.array(errorsNewton),\n",
    "        \"Ошибка Fsolve\" : np.array(errorsSolve)}\n",
    "\n",
    "tab = pd.DataFrame(data, index = index)\n",
    "tab"
   ]
  },
  {
   "cell_type": "markdown",
   "id": "9d052d8f-0ce4-43cf-b9d9-e2b258cbe080",
   "metadata": {},
   "source": [
    "## Вывод - Метод Ньютона имеет хорошую точность подсчётов."
   ]
  }
 ],
 "metadata": {
  "kernelspec": {
   "display_name": "Python 3 (ipykernel)",
   "language": "python",
   "name": "python3"
  },
  "language_info": {
   "codemirror_mode": {
    "name": "ipython",
    "version": 3
   },
   "file_extension": ".py",
   "mimetype": "text/x-python",
   "name": "python",
   "nbconvert_exporter": "python",
   "pygments_lexer": "ipython3",
   "version": "3.10.4"
  }
 },
 "nbformat": 4,
 "nbformat_minor": 5
}
